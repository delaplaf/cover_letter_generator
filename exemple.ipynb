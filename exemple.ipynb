{
 "cells": [
  {
   "cell_type": "code",
   "execution_count": 1,
   "id": "06999adf-3834-4b8a-97d7-68b390236faf",
   "metadata": {},
   "outputs": [],
   "source": [
    "from src.read_linkedin_job import extract_data_from_url"
   ]
  },
  {
   "cell_type": "code",
   "execution_count": 2,
   "id": "a100efaa-745b-4d74-a608-37d25651a0fd",
   "metadata": {},
   "outputs": [],
   "source": [
    "url = r\"https://www.linkedin.com/jobs/view/3720693103/?alternateChannel=search&refId=Ot2vLR9dlvhIFMDob0MYBQ%3D%3D&trackingId=yLPZnrcB%2BiqLioIipdVgsA%3D%3D\"\n",
    "title, desc, info = extract_data_from_url(url)"
   ]
  },
  {
   "cell_type": "code",
   "execution_count": 3,
   "id": "cf9b581f-744e-4441-be1d-1fcfa80346fc",
   "metadata": {},
   "outputs": [
    {
     "data": {
      "text/plain": [
       "'Glanceable hiring NLP Research Intern in Île-de-France, France '"
      ]
     },
     "execution_count": 3,
     "metadata": {},
     "output_type": "execute_result"
    }
   ],
   "source": [
    "title"
   ]
  },
  {
   "cell_type": "code",
   "execution_count": 4,
   "id": "90429154-fbe6-4c17-82b7-8efa0325af17",
   "metadata": {},
   "outputs": [
    {
     "data": {
      "text/plain": [
       "\"\\n\\n\\nInternship Opportunity - Glanceable - NLP Research Intern - 4-6 MonthsGlanceable Company OverviewGlanceable is an AI startup specializing in Natural Language Processing (NLP). Our primary focus is on analyzing reviews, feedback, and comments to provide cutting-edge tools and insights that help businesses succeed. We're redefining KYC (Know-Your-Customer) through our innovative solutions.Internship Description:We are seeking an NLP Research Intern who can contribute to our research team's ongoing projects and accelerate our studies in the field of NLP.Responsibilities:Collaborate with the R&D team to stay updated on the latest advances in NLPIdentify new research opportunities within Glanceable and lead the exploration of these ideas, pursuing publications when appropriateInvestigate how Large Language Models (LLMs) can be utilized to improve the performance of our modelsContribute to at least one research paper during your internshipResearch Areas of Interest:Natural Language Processing (NLP)Large Language Models (LLMs)Reinforcement Learning from Human FeedbackQualifications:Currently enrolled in a Master's or PhD program in Computer Science, Machine Learning, or a related quantitative fieldStrong skills in Deep Learning, demonstrated through prior experience or projectsProficiency in Python programmingExperience with machine learning libraries and frameworks, such as PyTorch, TensorFlow, or KerasStrong problem-solving and analytical skillsExcellent written and verbal communication skills in French and EnglishAbility to work independently and as part of a teamPreferred Qualifications:Experience in Natural Language ProcessingFamiliarity with the Transformers libraryPrior experience in academic researchIdeal Candidate Traits:Curious, proactive, and eager to learnAutonomous and able to think outside the boxStrong communication skills with a willingness to ask questionsHow to Apply:To apply for this position, please submit your resume along with a brief introduction about yourself and why you believe you would be an excellent fit for this role. Feel free to provide any additional information (links to website, projects, or Github profile) that supports your application.Note: This is a paid internship opportunity. The primary location for the role will be clearly communicated during the interview process. Relocation and travel requirements, if any, will be discussed at that time.We look forward to receiving your application and learning more about your interest in joining the Glanceable team as an NLP Research Intern!\\n\\n\\n        Show more\\n\\n        \\n\\n\\n        Show less\\n\\n        \\n\\n\\n\""
      ]
     },
     "execution_count": 4,
     "metadata": {},
     "output_type": "execute_result"
    }
   ],
   "source": [
    "desc"
   ]
  },
  {
   "cell_type": "code",
   "execution_count": 5,
   "id": "0f09cd7e-003a-4a80-9876-ff721f4fbd8a",
   "metadata": {},
   "outputs": [
    {
     "data": {
      "text/plain": [
       "\"Glanceable is a leading SAAS provider that specializes in aggregating and analyzing vast amounts of reviews and comments with advanced natural language processing (NLP) techniques. We consolidate both your public sources (Yelp, Tripadvisor, Facebook, etc.) and private/internal datasets onto a unified platform. Leveraging state-of-the-art technology and unique features, we empower you to sift through the clutter, identifying key customer insights and pain points. Our platform offers tailored analytics, whether you're examining global, regional, or local perspectives. Each client's experience is custom-fitted, and your feedback drives continuous improvements, ensuring your goals are always within reach.\""
      ]
     },
     "execution_count": 5,
     "metadata": {},
     "output_type": "execute_result"
    }
   ],
   "source": [
    "info"
   ]
  },
  {
   "cell_type": "code",
   "execution_count": null,
   "id": "fa1925b7-7575-4727-b1ca-86d85bf6ab06",
   "metadata": {},
   "outputs": [],
   "source": []
  }
 ],
 "metadata": {
  "kernelspec": {
   "display_name": "cover_letter",
   "language": "python",
   "name": "cover_letter"
  },
  "language_info": {
   "codemirror_mode": {
    "name": "ipython",
    "version": 3
   },
   "file_extension": ".py",
   "mimetype": "text/x-python",
   "name": "python",
   "nbconvert_exporter": "python",
   "pygments_lexer": "ipython3",
   "version": "3.10.11"
  }
 },
 "nbformat": 4,
 "nbformat_minor": 5
}
